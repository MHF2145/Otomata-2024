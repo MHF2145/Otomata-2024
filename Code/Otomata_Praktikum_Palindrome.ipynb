{
  "nbformat": 4,
  "nbformat_minor": 0,
  "metadata": {
    "colab": {
      "provenance": []
    },
    "kernelspec": {
      "name": "python3",
      "display_name": "Python 3"
    },
    "language_info": {
      "name": "python"
    }
  },
  "cells": [
    {
      "cell_type": "markdown",
      "source": [
        "# Tugas Praktikum - Otomata C\n",
        "\n",
        "## Kelompok 2 - Otomata C\n",
        "- Muhammad Nabil Akhtar Raya Amoriza - 5025221021\n",
        "- Putri Meyliya Rachmawati - 5025221062\n",
        "- Mohammad Hanif Furqan Aufa Putra - 5025221161\n",
        "- Fawwas Aldy Nurramdhan Kaisar - 5025221179\n",
        "- Allen Keyo Handika - 5025221298\n",
        "\n",
        "#### Problem:\n",
        "Buat sebuah program komputer untuk pengenal string - string palindrome dengan himpunan input string dibentuk dari : ( letter : digit ), bahasa yang digunakan bebas.\n"
      ],
      "metadata": {
        "id": "qUsR5-ynCc8Z"
      }
    },
    {
      "cell_type": "code",
      "execution_count": null,
      "metadata": {
        "id": "TQnue7pZ_dMu"
      },
      "outputs": [],
      "source": [
        "# Importing necessary library\n",
        "import re"
      ]
    },
    {
      "cell_type": "code",
      "source": [
        "# Function to check if a string is a palindrome\n",
        "def is_palindrome(s):\n",
        "    # Removing non-alphanumeric characters and converting to lowercase\n",
        "    cleaned = re.sub(r'[^a-zA-Z0-9]', '', s).lower()\n",
        "    # Checking if the cleaned string is equal to its reverse\n",
        "    return cleaned == cleaned[::-1]"
      ],
      "metadata": {
        "id": "Nr-xQr_r_hDY"
      },
      "execution_count": null,
      "outputs": []
    },
    {
      "cell_type": "code",
      "source": [
        "# Function to process a list of strings and separate palindromes and non-palindromes\n",
        "def classify_strings(strings):\n",
        "    palindromes = []\n",
        "    non_palindromes = []\n",
        "    for s in strings:\n",
        "        if is_palindrome(s):\n",
        "            palindromes.append(s)\n",
        "        else:\n",
        "            non_palindromes.append(s)\n",
        "    return palindromes, non_palindromes"
      ],
      "metadata": {
        "id": "0SCQVrR4_k5Y"
      },
      "execution_count": null,
      "outputs": []
    },
    {
      "cell_type": "code",
      "source": [
        "# List of input strings\n",
        "input_strings = [\n",
        "    \"A man, a plan, a canal, Panama!\",\n",
        "    \"No lemon, no melon\",\n",
        "    \"Was it a car or a cat I saw?\",\n",
        "    \"12321\",\n",
        "    \"Hello, World!\",\n",
        "    \"Madam In Eden, I'm Adam\",\n",
        "    \"Not a palindrome\"\n",
        "]"
      ],
      "metadata": {
        "id": "fMn5bkfn_nhv"
      },
      "execution_count": null,
      "outputs": []
    },
    {
      "cell_type": "code",
      "source": [
        "# Classifying strings\n",
        "palindromes, non_palindromes = classify_strings(input_strings)"
      ],
      "metadata": {
        "id": "emrtpAaZ_pZo"
      },
      "execution_count": null,
      "outputs": []
    },
    {
      "cell_type": "code",
      "source": [
        "# Printing the results\n",
        "print(\"Palindromes found:\")\n",
        "for palindrome in palindromes:\n",
        "    print(palindrome)"
      ],
      "metadata": {
        "colab": {
          "base_uri": "https://localhost:8080/"
        },
        "id": "Sj1cs9R_BBtv",
        "outputId": "806bcd15-f810-433e-eab9-5154a001ae55"
      },
      "execution_count": null,
      "outputs": [
        {
          "output_type": "stream",
          "name": "stdout",
          "text": [
            "Palindromes found:\n",
            "A man, a plan, a canal, Panama!\n",
            "No lemon, no melon\n",
            "Was it a car or a cat I saw?\n",
            "12321\n",
            "Madam In Eden, I'm Adam\n"
          ]
        }
      ]
    },
    {
      "cell_type": "code",
      "source": [
        "print(\"\\nNon-palindromes found:\")\n",
        "for non_palindrome in non_palindromes:\n",
        "    print(non_palindrome)"
      ],
      "metadata": {
        "colab": {
          "base_uri": "https://localhost:8080/"
        },
        "id": "5-EM2t3eBFBI",
        "outputId": "2fa61653-6ddc-49c4-ee85-e95207692d09"
      },
      "execution_count": null,
      "outputs": [
        {
          "output_type": "stream",
          "name": "stdout",
          "text": [
            "\n",
            "Non-palindromes found:\n",
            "Hello, World!\n",
            "Not a palindrome\n"
          ]
        }
      ]
    }
  ]
}