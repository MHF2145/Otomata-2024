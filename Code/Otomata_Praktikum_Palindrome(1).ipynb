{
  "cells": [
    {
      "cell_type": "markdown",
      "metadata": {
        "id": "qUsR5-ynCc8Z"
      },
      "source": [
        "# Tugas Praktikum - Otomata C\n",
        "\n",
        "## Kelompok 2 - Otomata C\n",
        "- Muhammad Nabil Akhtar Raya Amoriza - 5025221021\n",
        "- Putri Meyliya Rachmawati - 5025221062\n",
        "- Mohammad Hanif Furqan Aufa Putra - 5025221161\n",
        "- Fawwas Aldy Nurramdhan Kaisar - 5025221179\n",
        "- Allen Keyo Handika - 5025221298\n",
        "\n",
        "#### Problem:\n",
        "Buat sebuah program komputer untuk pengenal string - string palindrome dengan himpunan input string dibentuk dari : ( letter : digit ), bahasa yang digunakan bebas.\n"
      ]
    },
    {
      "cell_type": "code",
      "execution_count": 46,
      "metadata": {
        "id": "TQnue7pZ_dMu"
      },
      "outputs": [],
      "source": [
        "# Import library\n",
        "import re"
      ]
    },
    {
      "cell_type": "code",
      "execution_count": 47,
      "metadata": {
        "id": "Nr-xQr_r_hDY"
      },
      "outputs": [],
      "source": [
        "# Fungsi untuk mengecek apakah string merupakan palindrome\n",
        "def is_palindrome(s):\n",
        "    # Mengecek apakah terdapat karakter non-alphanumeric dalam string\n",
        "    if re.search(r'[^a-zA-Z0-9]', s):\n",
        "        # Mengeluarkan exception dan menghentikan program\n",
        "        raise ValueError(F\"Error: String \\\"{s}\\\" tidak terdiri dari letter dan digit\")\n",
        "    else:\n",
        "        # Jika tidak ada karakter non-alphanumeric, lanjutkan dengan logika program\n",
        "        return s == s[::-1]"
      ]
    },
    {
      "cell_type": "code",
      "execution_count": 48,
      "metadata": {
        "id": "0SCQVrR4_k5Y"
      },
      "outputs": [],
      "source": [
        "# Fungsi untuk mengelompokkan string menjadi palindrome dan non-palindrome\n",
        "def classify_strings(strings):\n",
        "    palindromes = []\n",
        "    non_palindromes = []\n",
        "    for s in strings:\n",
        "        s = s.lower()\n",
        "        try:\n",
        "            if is_palindrome(s):\n",
        "                palindromes.append(s)\n",
        "            else:\n",
        "                non_palindromes.append(s)\n",
        "        except ValueError as e:\n",
        "            print(e)\n",
        "    return palindromes, non_palindromes"
      ]
    },
    {
      "cell_type": "code",
      "execution_count": 49,
      "metadata": {
        "id": "fMn5bkfn_nhv"
      },
      "outputs": [],
      "source": [
        "# Input strings\n",
        "input_strings = [\n",
        "    \"A man, a plan, a canal, Panama!\",\n",
        "    \"amanaplanacanalpanama\",\n",
        "    \"No lemon, no melon\",\n",
        "    \"NOLEMONNOMELON\",\n",
        "    \"Was it a car or a cat I saw?\",\n",
        "    \"12321\",\n",
        "    \"Hello, World!\",\n",
        "    \"Madam In Eden, I'm Adam\",\n",
        "    \"MadamInEdenImAdam\",\n",
        "    \"Not a palindrome\",\n",
        "    \"notapalindrome\",\n",
        "    \"123456\"\n",
        "]"
      ]
    },
    {
      "cell_type": "code",
      "execution_count": 50,
      "metadata": {
        "id": "emrtpAaZ_pZo"
      },
      "outputs": [
        {
          "name": "stdout",
          "output_type": "stream",
          "text": [
            "Error: String \"a man, a plan, a canal, panama!\" tidak terdiri dari letter dan digit\n",
            "Error: String \"no lemon, no melon\" tidak terdiri dari letter dan digit\n",
            "Error: String \"was it a car or a cat i saw?\" tidak terdiri dari letter dan digit\n",
            "Error: String \"hello, world!\" tidak terdiri dari letter dan digit\n",
            "Error: String \"madam in eden, i'm adam\" tidak terdiri dari letter dan digit\n",
            "Error: String \"not a palindrome\" tidak terdiri dari letter dan digit\n"
          ]
        }
      ],
      "source": [
        "# Classify strings\n",
        "palindromes, non_palindromes = classify_strings(input_strings)"
      ]
    },
    {
      "cell_type": "code",
      "execution_count": 51,
      "metadata": {
        "colab": {
          "base_uri": "https://localhost:8080/"
        },
        "id": "Sj1cs9R_BBtv",
        "outputId": "806bcd15-f810-433e-eab9-5154a001ae55"
      },
      "outputs": [
        {
          "name": "stdout",
          "output_type": "stream",
          "text": [
            "Palindromes found:\n",
            "amanaplanacanalpanama\n",
            "nolemonnomelon\n",
            "12321\n",
            "madaminedenimadam\n"
          ]
        }
      ],
      "source": [
        "# Print hasil\n",
        "print(\"Palindromes found:\")\n",
        "for palindrome in palindromes:\n",
        "    print(palindrome)"
      ]
    },
    {
      "cell_type": "code",
      "execution_count": 52,
      "metadata": {
        "colab": {
          "base_uri": "https://localhost:8080/"
        },
        "id": "5-EM2t3eBFBI",
        "outputId": "2fa61653-6ddc-49c4-ee85-e95207692d09"
      },
      "outputs": [
        {
          "name": "stdout",
          "output_type": "stream",
          "text": [
            "\n",
            "Non-palindromes found:\n",
            "notapalindrome\n",
            "123456\n"
          ]
        }
      ],
      "source": [
        "print(\"\\nNon-palindromes found:\")\n",
        "for non_palindrome in non_palindromes:\n",
        "    print(non_palindrome)"
      ]
    },
    {
      "cell_type": "code",
      "execution_count": null,
      "metadata": {},
      "outputs": [],
      "source": []
    },
    {
      "cell_type": "code",
      "execution_count": null,
      "metadata": {},
      "outputs": [],
      "source": []
    }
  ],
  "metadata": {
    "colab": {
      "provenance": []
    },
    "kernelspec": {
      "display_name": "Python 3",
      "name": "python3"
    },
    "language_info": {
      "codemirror_mode": {
        "name": "ipython",
        "version": 3
      },
      "file_extension": ".py",
      "mimetype": "text/x-python",
      "name": "python",
      "nbconvert_exporter": "python",
      "pygments_lexer": "ipython3",
      "version": "3.11.4"
    }
  },
  "nbformat": 4,
  "nbformat_minor": 0
}
